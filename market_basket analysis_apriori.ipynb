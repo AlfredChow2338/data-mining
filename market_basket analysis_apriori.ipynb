{
 "cells": [
  {
   "cell_type": "code",
   "execution_count": 1,
   "id": "bb48da1c",
   "metadata": {},
   "outputs": [],
   "source": [
    "import pandas as pd\n",
    "select_columns = ['fund_category', 'fund_family', 'exchange_code', 'investment_type', 'size_type']\n",
    "df=pd.read_csv('ETFs.csv')\n",
    "ETFS= pd.DataFrame(df, columns=select_columns)\n",
    "df=pd.read_csv('MutualFunds.csv')\n",
    "MutualFunds= pd.DataFrame(df, columns=select_columns)"
   ]
  },
  {
   "cell_type": "code",
   "execution_count": 2,
   "id": "ca6bef40",
   "metadata": {},
   "outputs": [
    {
     "data": {
      "text/plain": [
       "(2310, 5)"
      ]
     },
     "execution_count": 2,
     "metadata": {},
     "output_type": "execute_result"
    }
   ],
   "source": [
    "ETFS.shape"
   ]
  },
  {
   "cell_type": "code",
   "execution_count": 3,
   "id": "a0eb7dd2",
   "metadata": {},
   "outputs": [
    {
     "data": {
      "text/plain": [
       "(23783, 5)"
      ]
     },
     "execution_count": 3,
     "metadata": {},
     "output_type": "execute_result"
    }
   ],
   "source": [
    "MutualFunds.shape"
   ]
  },
  {
   "cell_type": "code",
   "execution_count": 4,
   "id": "a60f7069",
   "metadata": {},
   "outputs": [
    {
     "name": "stderr",
     "output_type": "stream",
     "text": [
      "ERROR:root:An error occurred: division by zero\n",
      "DEBUG:root:Exception details:\n",
      "Traceback (most recent call last):\n",
      "  File \"C:\\Users\\venus\\AppData\\Local\\Temp\\ipykernel_612\\4044794201.py\", line 7, in <module>\n",
      "    result = 10 / 0\n",
      "             ~~~^~~\n",
      "ZeroDivisionError: division by zero\n"
     ]
    }
   ],
   "source": [
    "import logging\n",
    "\n",
    "logging.basicConfig(level=logging.DEBUG)\n",
    "\n",
    "try:\n",
    "    # Your code here, e.g., potentially failing operation\n",
    "    result = 10 / 0\n",
    "except Exception as e:\n",
    "    logging.error(\"An error occurred: %s\", str(e))\n",
    "    # Optionally, more detailed logging:\n",
    "    logging.debug(\"Exception details:\", exc_info=True)"
   ]
  },
  {
   "cell_type": "code",
   "execution_count": 5,
   "id": "233d525c-602b-44a8-8537-4e1232b02a84",
   "metadata": {},
   "outputs": [],
   "source": [
    "import pandas as pd\n",
    "from collections import defaultdict\n",
    "from itertools import combinations\n",
    "from datetime import datetime\n",
    "import logging\n",
    "from tqdm import tqdm\n",
    "\n",
    "# Set up basic configuration for logging\n",
    "logging.basicConfig(level=logging.INFO, format='%(asctime)s - %(levelname)s - %(message)s')\n",
    "\n",
    "class Apriori:\n",
    "    def __init__(self, filename):\n",
    "        self.file = filename\n",
    "        self.transactions = list()\n",
    "        self.k_itemset = defaultdict(int)\n",
    "        self.GlobalFreqItem = {}\n",
    "        \n",
    "    def LoadData(self):\n",
    "        select_columns = ['fund_category', 'fund_family', 'exchange_code', 'investment_type', 'size_type']\n",
    "        df = pd.read_csv(self.file)\n",
    "        filtered_df = pd.DataFrame(data=df, columns=select_columns)\n",
    "        \n",
    "        # Convert each row to a list of sets\n",
    "        self.transactions = [set(row.dropna().tolist()) for index, row in filtered_df.iterrows()]\n",
    "        \n",
    "        # Count initial item frequencies\n",
    "        for transaction in self.transactions:\n",
    "            for item in transaction:\n",
    "                self.k_itemset[frozenset([item])] += 1\n",
    "        logging.info(f\"Loaded and processed {len(self.transactions)} transactions.\")\n",
    "\n",
    "    def Count_Support(self, candidates, k):\n",
    "        k_support = defaultdict(int)\n",
    "        for transaction in tqdm(self.transactions, desc=f\"Counting support for {k}-itemsets\"):\n",
    "            if len(transaction) >= k:\n",
    "                subsets = list(combinations(transaction, k))\n",
    "                for subset in subsets:\n",
    "                    subset = frozenset(subset)\n",
    "                    if subset in candidates:\n",
    "                        k_support[subset] += 1\n",
    "        return k_support\n",
    "\n",
    "    def freq_item_dict(self, item_dict, support):\n",
    "        return {k: v for k, v in item_dict.items() if v >= support}\n",
    "  \n",
    "    \n",
    "    def apriori(self, minFreq):\n",
    "        time_start = datetime.now()\n",
    "        self.LoadData()\n",
    "        \n",
    "        minSup = minFreq * len(self.transactions)\n",
    "        Lk = self.freq_item_dict(self.k_itemset, minSup)\n",
    "        K = 1\n",
    "        self.GlobalFreqItem[K] = Lk\n",
    "        logging.info(f\"Initial frequent itemsets: {len(Lk)} found.\")\n",
    "        while len(Lk) > 0:\n",
    "            K += 1\n",
    "            candidates = set()\n",
    "            itemsets = list(Lk.keys())\n",
    "            for i in tqdm(range(len(itemsets)), desc=f\"Generating candidates for {K}-itemsets\"):\n",
    "                for j in range(i + 1, len(itemsets)):\n",
    "                    union_set = itemsets[i].union(itemsets[j])\n",
    "                    if len(union_set) == K:\n",
    "                        candidates.add(union_set)\n",
    "            \n",
    "            C_k = self.Count_Support(candidates, K)\n",
    "            Lk = self.freq_item_dict(C_k, minSup)\n",
    "            self.GlobalFreqItem[K] = Lk\n",
    "            self.GlobalFreqItem[K] = sorted(self.GlobalFreqItem[K].items(), key=lambda x: x[1], reverse=True)\n",
    "            logging.info(f\"{K}-itemsets: {len(Lk)} frequent itemsets found.\")\n",
    "            \n",
    "        time_elapsed = datetime.now() - time_start\n",
    "        logging.info(f\"Apriori algorithm completed in {time_elapsed}.\")\n",
    "        return self.GlobalFreqItem, time_elapsed\n",
    "    \n",
    "    \n",
    "    "
   ]
  },
  {
   "cell_type": "code",
   "execution_count": 6,
   "id": "757fa0eb-9771-4b9c-9b46-96fc8c9a7e7c",
   "metadata": {
    "scrolled": true
   },
   "outputs": [
    {
     "name": "stderr",
     "output_type": "stream",
     "text": [
      "INFO:root:Loaded and processed 2310 transactions.\n",
      "INFO:root:Initial frequent itemsets: 10 found.\n",
      "Generating candidates for 2-itemsets: 100%|██████████| 10/10 [00:00<?, ?it/s]\n",
      "Counting support for 2-itemsets: 100%|██████████| 2310/2310 [00:00<00:00, 362823.63it/s]\n",
      "INFO:root:2-itemsets: 8 frequent itemsets found.\n",
      "Generating candidates for 3-itemsets: 100%|██████████| 8/8 [00:00<?, ?it/s]\n",
      "Counting support for 3-itemsets: 100%|██████████| 2310/2310 [00:00<00:00, 371291.14it/s]\n",
      "INFO:root:3-itemsets: 1 frequent itemsets found.\n",
      "Generating candidates for 4-itemsets: 100%|██████████| 1/1 [00:00<?, ?it/s]\n",
      "Counting support for 4-itemsets: 100%|██████████| 2310/2310 [00:00<00:00, 842727.86it/s]\n",
      "INFO:root:4-itemsets: 0 frequent itemsets found.\n",
      "INFO:root:Apriori algorithm completed in 0:00:00.371272.\n"
     ]
    }
   ],
   "source": [
    "time=0\n",
    "ETFs_model = Apriori('ETFs.csv')\n",
    "ETFsItems,t = ETFs_model.apriori(minFreq=0.1)"
   ]
  },
  {
   "cell_type": "code",
   "execution_count": 7,
   "id": "d56e33b7",
   "metadata": {},
   "outputs": [
    {
     "name": "stderr",
     "output_type": "stream",
     "text": [
      "INFO:root:Loaded and processed 23783 transactions.\n",
      "INFO:root:Initial frequent itemsets: 7 found.\n",
      "Generating candidates for 2-itemsets: 100%|██████████| 7/7 [00:00<?, ?it/s]\n",
      "Counting support for 2-itemsets: 100%|██████████| 23783/23783 [00:00<00:00, 293325.14it/s]\n",
      "INFO:root:2-itemsets: 10 frequent itemsets found.\n",
      "Generating candidates for 3-itemsets: 100%|██████████| 10/10 [00:00<?, ?it/s]\n",
      "Counting support for 3-itemsets: 100%|██████████| 23783/23783 [00:00<00:00, 352236.88it/s]\n",
      "INFO:root:3-itemsets: 4 frequent itemsets found.\n",
      "Generating candidates for 4-itemsets: 100%|██████████| 4/4 [00:00<?, ?it/s]\n",
      "Counting support for 4-itemsets: 100%|██████████| 23783/23783 [00:00<00:00, 597588.94it/s]\n",
      "INFO:root:4-itemsets: 0 frequent itemsets found.\n",
      "INFO:root:Apriori algorithm completed in 0:00:03.287406.\n"
     ]
    }
   ],
   "source": [
    "time=0\n",
    "MutualFunds_model = Apriori('MutualFunds.csv')\n",
    "MutualFundsItems,t = MutualFunds_model.apriori(minFreq=0.1)"
   ]
  },
  {
   "cell_type": "markdown",
   "id": "6593eff0",
   "metadata": {},
   "source": [
    "## Freq Itemsets for ETFs.csv"
   ]
  },
  {
   "cell_type": "code",
   "execution_count": 8,
   "id": "43fe2cf1",
   "metadata": {},
   "outputs": [
    {
     "data": {
      "text/plain": [
       "[(frozenset({'Blend', 'Large', 'PCX'}), 293)]"
      ]
     },
     "execution_count": 8,
     "metadata": {},
     "output_type": "execute_result"
    }
   ],
   "source": [
    "ETFsItems[3]"
   ]
  },
  {
   "cell_type": "code",
   "execution_count": 9,
   "id": "9f503d57",
   "metadata": {},
   "outputs": [
    {
     "data": {
      "text/plain": [
       "[(frozenset({'Large', 'PCX'}), 592),\n",
       " (frozenset({'Blend', 'Large'}), 545),\n",
       " (frozenset({'Blend', 'PCX'}), 448),\n",
       " (frozenset({'PCX', 'Value'}), 332),\n",
       " (frozenset({'American Century Investments', 'PCX'}), 281),\n",
       " (frozenset({'Medium', 'PCX'}), 275),\n",
       " (frozenset({'BTS', 'Large'}), 270),\n",
       " (frozenset({'Large', 'Value'}), 264)]"
      ]
     },
     "execution_count": 9,
     "metadata": {},
     "output_type": "execute_result"
    }
   ],
   "source": [
    "ETFsItems[2]"
   ]
  },
  {
   "cell_type": "code",
   "execution_count": 10,
   "id": "d678f3f2",
   "metadata": {},
   "outputs": [],
   "source": [
    "## Support"
   ]
  },
  {
   "cell_type": "code",
   "execution_count": 11,
   "id": "553f10d2",
   "metadata": {},
   "outputs": [
    {
     "data": {
      "text/plain": [
       "0.12683982683982684"
      ]
     },
     "execution_count": 11,
     "metadata": {},
     "output_type": "execute_result"
    }
   ],
   "source": [
    "ETFsItems[3][0][1]/2310"
   ]
  },
  {
   "cell_type": "code",
   "execution_count": 12,
   "id": "d099c46d",
   "metadata": {
    "scrolled": true
   },
   "outputs": [
    {
     "name": "stdout",
     "output_type": "stream",
     "text": [
      "0.25627705627705627\n",
      "0.23593073593073594\n",
      "0.19393939393939394\n",
      "0.14372294372294372\n",
      "0.12164502164502164\n",
      "0.11904761904761904\n",
      "0.11688311688311688\n",
      "0.11428571428571428\n"
     ]
    }
   ],
   "source": [
    "for i in range(8):\n",
    "    print(ETFsItems[2][i][1]/2310)"
   ]
  },
  {
   "cell_type": "markdown",
   "id": "db419182",
   "metadata": {},
   "source": [
    "## Freq Itemsets for MutualFunds.csv"
   ]
  },
  {
   "cell_type": "code",
   "execution_count": 13,
   "id": "717af319",
   "metadata": {
    "scrolled": false
   },
   "outputs": [
    {
     "data": {
      "text/plain": [
       "[(frozenset({'Blend', 'Large', 'NAS'}), 7457),\n",
       " (frozenset({'Large', 'NAS', 'Value'}), 2876),\n",
       " (frozenset({'Growth', 'Large', 'NAS'}), 2866),\n",
       " (frozenset({'Blend', 'Medium', 'NAS'}), 2423)]"
      ]
     },
     "execution_count": 13,
     "metadata": {},
     "output_type": "execute_result"
    }
   ],
   "source": [
    "MutualFundsItems[3]"
   ]
  },
  {
   "cell_type": "code",
   "execution_count": 14,
   "id": "252d34cd",
   "metadata": {},
   "outputs": [
    {
     "data": {
      "text/plain": [
       "[(frozenset({'Large', 'NAS'}), 13199),\n",
       " (frozenset({'Blend', 'NAS'}), 10902),\n",
       " (frozenset({'Blend', 'Large'}), 7457),\n",
       " (frozenset({'NAS', 'Value'}), 6847),\n",
       " (frozenset({'Medium', 'NAS'}), 5582),\n",
       " (frozenset({'Growth', 'NAS'}), 4925),\n",
       " (frozenset({'NAS', 'Small'}), 3893),\n",
       " (frozenset({'Large', 'Value'}), 2876),\n",
       " (frozenset({'Growth', 'Large'}), 2866),\n",
       " (frozenset({'Blend', 'Medium'}), 2423)]"
      ]
     },
     "execution_count": 14,
     "metadata": {},
     "output_type": "execute_result"
    }
   ],
   "source": [
    "MutualFundsItems[2]"
   ]
  },
  {
   "cell_type": "code",
   "execution_count": 15,
   "id": "f4172b0b",
   "metadata": {},
   "outputs": [],
   "source": [
    "## Support"
   ]
  },
  {
   "cell_type": "code",
   "execution_count": 16,
   "id": "ec1466fe",
   "metadata": {},
   "outputs": [
    {
     "name": "stdout",
     "output_type": "stream",
     "text": [
      "0.3135432872219653\n",
      "0.12092671235756633\n",
      "0.12050624395576673\n",
      "0.10187949375604423\n"
     ]
    }
   ],
   "source": [
    "for i in range(4):\n",
    "    print(MutualFundsItems[3][i][1]/23783)"
   ]
  },
  {
   "cell_type": "code",
   "execution_count": 17,
   "id": "cb1ddf26",
   "metadata": {},
   "outputs": [
    {
     "name": "stdout",
     "output_type": "stream",
     "text": [
      "0.5549762435352983\n",
      "0.4583946516419291\n",
      "0.3135432872219653\n",
      "0.28789471471218936\n",
      "0.2347054618845394\n",
      "0.20708068788630535\n",
      "0.16368834882058614\n",
      "0.12092671235756633\n",
      "0.12050624395576673\n",
      "0.10187949375604423\n"
     ]
    }
   ],
   "source": [
    "for i in range(10):\n",
    "    print(MutualFundsItems[2][i][1]/23783)"
   ]
  },
  {
   "cell_type": "code",
   "execution_count": 18,
   "id": "83c13831",
   "metadata": {},
   "outputs": [],
   "source": [
    "list_ETFS=list()\n",
    "for i in ETFS.columns:\n",
    "    list_ETFS.append(ETFS[i].value_counts().index)"
   ]
  },
  {
   "cell_type": "code",
   "execution_count": 19,
   "id": "2cefa32d",
   "metadata": {},
   "outputs": [],
   "source": [
    "list_MutualFunds=list()\n",
    "for i in MutualFunds.columns:\n",
    "    list_MutualFunds.append(MutualFunds[i].value_counts().index)"
   ]
  },
  {
   "cell_type": "code",
   "execution_count": 20,
   "id": "599bfce3",
   "metadata": {},
   "outputs": [
    {
     "data": {
      "text/html": [
       "<div>\n",
       "<style scoped>\n",
       "    .dataframe tbody tr th:only-of-type {\n",
       "        vertical-align: middle;\n",
       "    }\n",
       "\n",
       "    .dataframe tbody tr th {\n",
       "        vertical-align: top;\n",
       "    }\n",
       "\n",
       "    .dataframe thead th {\n",
       "        text-align: right;\n",
       "    }\n",
       "</style>\n",
       "<table border=\"1\" class=\"dataframe\">\n",
       "  <thead>\n",
       "    <tr style=\"text-align: right;\">\n",
       "      <th></th>\n",
       "      <th>fund_category</th>\n",
       "      <th>fund_family</th>\n",
       "      <th>exchange_code</th>\n",
       "      <th>investment_type</th>\n",
       "      <th>size_type</th>\n",
       "    </tr>\n",
       "  </thead>\n",
       "  <tbody>\n",
       "    <tr>\n",
       "      <th>0</th>\n",
       "      <td>NaN</td>\n",
       "      <td>DWS</td>\n",
       "      <td>PCX</td>\n",
       "      <td>NaN</td>\n",
       "      <td>NaN</td>\n",
       "    </tr>\n",
       "    <tr>\n",
       "      <th>1</th>\n",
       "      <td>Foreign Large Growth</td>\n",
       "      <td>Virtus</td>\n",
       "      <td>NGM</td>\n",
       "      <td>Blend</td>\n",
       "      <td>Large</td>\n",
       "    </tr>\n",
       "    <tr>\n",
       "      <th>2</th>\n",
       "      <td>Pacific/Asia ex-Japan Stk</td>\n",
       "      <td>American Century Investments</td>\n",
       "      <td>NGM</td>\n",
       "      <td>Blend</td>\n",
       "      <td>Large</td>\n",
       "    </tr>\n",
       "    <tr>\n",
       "      <th>3</th>\n",
       "      <td>Large Value</td>\n",
       "      <td>Thrivent Funds</td>\n",
       "      <td>PCX</td>\n",
       "      <td>Value</td>\n",
       "      <td>Large</td>\n",
       "    </tr>\n",
       "    <tr>\n",
       "      <th>4</th>\n",
       "      <td>Miscellaneous Sector</td>\n",
       "      <td>American Century Investments</td>\n",
       "      <td>PCX</td>\n",
       "      <td>Growth</td>\n",
       "      <td>Medium</td>\n",
       "    </tr>\n",
       "    <tr>\n",
       "      <th>...</th>\n",
       "      <td>...</td>\n",
       "      <td>...</td>\n",
       "      <td>...</td>\n",
       "      <td>...</td>\n",
       "      <td>...</td>\n",
       "    </tr>\n",
       "    <tr>\n",
       "      <th>2305</th>\n",
       "      <td>Pacific/Asia ex-Japan Stk</td>\n",
       "      <td>CBOE Vest</td>\n",
       "      <td>PCX</td>\n",
       "      <td>Blend</td>\n",
       "      <td>Large</td>\n",
       "    </tr>\n",
       "    <tr>\n",
       "      <th>2306</th>\n",
       "      <td>Miscellaneous Region</td>\n",
       "      <td>Buffalo</td>\n",
       "      <td>PCX</td>\n",
       "      <td>Value</td>\n",
       "      <td>Large</td>\n",
       "    </tr>\n",
       "    <tr>\n",
       "      <th>2307</th>\n",
       "      <td>Miscellaneous Region</td>\n",
       "      <td>Buffalo</td>\n",
       "      <td>PCX</td>\n",
       "      <td>Blend</td>\n",
       "      <td>Large</td>\n",
       "    </tr>\n",
       "    <tr>\n",
       "      <th>2308</th>\n",
       "      <td>Miscellaneous Region</td>\n",
       "      <td>Buffalo</td>\n",
       "      <td>PCX</td>\n",
       "      <td>Blend</td>\n",
       "      <td>Large</td>\n",
       "    </tr>\n",
       "    <tr>\n",
       "      <th>2309</th>\n",
       "      <td>Miscellaneous Region</td>\n",
       "      <td>Buffalo</td>\n",
       "      <td>PCX</td>\n",
       "      <td>Blend</td>\n",
       "      <td>Large</td>\n",
       "    </tr>\n",
       "  </tbody>\n",
       "</table>\n",
       "<p>2310 rows × 5 columns</p>\n",
       "</div>"
      ],
      "text/plain": [
       "                  fund_category                   fund_family exchange_code  \\\n",
       "0                           NaN                           DWS           PCX   \n",
       "1          Foreign Large Growth                        Virtus           NGM   \n",
       "2     Pacific/Asia ex-Japan Stk  American Century Investments           NGM   \n",
       "3                   Large Value                Thrivent Funds           PCX   \n",
       "4          Miscellaneous Sector  American Century Investments           PCX   \n",
       "...                         ...                           ...           ...   \n",
       "2305  Pacific/Asia ex-Japan Stk                     CBOE Vest           PCX   \n",
       "2306       Miscellaneous Region                       Buffalo           PCX   \n",
       "2307       Miscellaneous Region                       Buffalo           PCX   \n",
       "2308       Miscellaneous Region                       Buffalo           PCX   \n",
       "2309       Miscellaneous Region                       Buffalo           PCX   \n",
       "\n",
       "     investment_type size_type  \n",
       "0                NaN       NaN  \n",
       "1              Blend     Large  \n",
       "2              Blend     Large  \n",
       "3              Value     Large  \n",
       "4             Growth    Medium  \n",
       "...              ...       ...  \n",
       "2305           Blend     Large  \n",
       "2306           Value     Large  \n",
       "2307           Blend     Large  \n",
       "2308           Blend     Large  \n",
       "2309           Blend     Large  \n",
       "\n",
       "[2310 rows x 5 columns]"
      ]
     },
     "execution_count": 20,
     "metadata": {},
     "output_type": "execute_result"
    }
   ],
   "source": [
    "ETFS"
   ]
  },
  {
   "cell_type": "code",
   "execution_count": 21,
   "id": "3800ae5e",
   "metadata": {},
   "outputs": [
    {
     "data": {
      "text/plain": [
       "Index(['Large Blend', 'Large Value', 'Trading--Leveraged Equity',\n",
       "       'Trading--Inverse Equity', 'Diversified Emerging Mkts', 'Large Growth',\n",
       "       'Foreign Large Blend', 'Technology', 'Small Blend',\n",
       "       'Miscellaneous Region', 'High Yield Bond', 'Mid-Cap Blend',\n",
       "       'China Region', 'Health', 'Foreign Large Value', 'Ultrashort Bond',\n",
       "       'Natural Resources', 'Corporate Bond', 'Mid-Cap Value',\n",
       "       'Intermediate-Term Bond', 'Short-Term Bond', 'Mid-Cap Growth',\n",
       "       'Real Estate', 'Miscellaneous Sector', 'Consumer Cyclical',\n",
       "       'Europe Stock', 'Financial', 'Energy Limited Partnership',\n",
       "       'Small Value', 'Emerging Markets Bond', 'Commodities Broad Basket',\n",
       "       'Muni National Interm', 'Industrials', 'Small Growth',\n",
       "       'Trading--Miscellaneous', 'Foreign Large Growth', 'Multisector Bond',\n",
       "       'Equity Energy', 'Preferred Stock', 'Inflation-Protected Bond',\n",
       "       'Intermediate Government', 'Long-Short Equity', 'Japan Stock',\n",
       "       'Tactical Allocation', 'Long Government', 'Equity Precious Metals',\n",
       "       'Pacific/Asia ex-Japan Stk', 'World Allocation',\n",
       "       'Trading--Inverse Commodities', 'Communications', 'Nontraditional Bond',\n",
       "       'World Bond', 'India Equity', 'Trading--Leveraged Commodities',\n",
       "       'Consumer Defensive', 'Global Real Estate', 'Utilities',\n",
       "       'Allocation--30% to 50% Equity', 'Allocation--50% to 70% Equity',\n",
       "       'Emerging-Markets Local-Currency Bond', 'Foreign Small/Mid Value',\n",
       "       'Infrastructure', 'Short Government', 'Trading--Inverse Debt',\n",
       "       'Muni National Short', 'Allocation--70% to 85% Equity',\n",
       "       'Muni National Long', 'Single Currency', 'Latin America Stock',\n",
       "       'Bank Loan', 'Managed Futures', 'Long-Term Bond',\n",
       "       'Trading--Leveraged Debt', 'High Yield Muni',\n",
       "       'Allocation--15% to 30% Equity', 'Foreign Small/Mid Blend',\n",
       "       'Convertibles', 'Foreign Small/Mid Growth', 'Muni California Long',\n",
       "       'Diversified Pacific/Asia', 'Muni Minnesota', 'Allocation--85%+ Equity',\n",
       "       'Muni New York Intermediate'],\n",
       "      dtype='object', name='fund_category')"
      ]
     },
     "execution_count": 21,
     "metadata": {},
     "output_type": "execute_result"
    }
   ],
   "source": [
    "list_ETFS[0]"
   ]
  },
  {
   "cell_type": "code",
   "execution_count": 22,
   "id": "53d3f5eb",
   "metadata": {},
   "outputs": [
    {
     "data": {
      "text/plain": [
       "Index(['American Century Investments', 'BlackRock', 'AllianceBernstein',\n",
       "       'Invesco', 'American Funds', 'Virtus', 'American Beacon', 'Alger',\n",
       "       'MFS', 'Baillie Gifford Funds',\n",
       "       ...\n",
       "       'Argent', 'Berkshire', 'Biondo Investment Advisor', 'BFS',\n",
       "       'American Trust Company', 'Barrett', 'Soundwatch Capital',\n",
       "       'Alpha Fiduciary', 'Beech Hill', 'Adirondack Funds'],\n",
       "      dtype='object', name='fund_family', length=150)"
      ]
     },
     "execution_count": 22,
     "metadata": {},
     "output_type": "execute_result"
    }
   ],
   "source": [
    "list_ETFS[1]"
   ]
  },
  {
   "cell_type": "code",
   "execution_count": 23,
   "id": "7b1e0894",
   "metadata": {},
   "outputs": [
    {
     "data": {
      "text/plain": [
       "Index(['PCX', 'BTS', 'NGM', 'PNK'], dtype='object', name='exchange_code')"
      ]
     },
     "execution_count": 23,
     "metadata": {},
     "output_type": "execute_result"
    }
   ],
   "source": [
    "list_ETFS[2]"
   ]
  },
  {
   "cell_type": "code",
   "execution_count": 24,
   "id": "f2a28fb4",
   "metadata": {},
   "outputs": [
    {
     "data": {
      "text/plain": [
       "Index(['Blend', 'Value', 'Growth'], dtype='object', name='investment_type')"
      ]
     },
     "execution_count": 24,
     "metadata": {},
     "output_type": "execute_result"
    }
   ],
   "source": [
    "list_ETFS[3]"
   ]
  },
  {
   "cell_type": "code",
   "execution_count": 25,
   "id": "3e4fb6d5",
   "metadata": {},
   "outputs": [
    {
     "data": {
      "text/plain": [
       "Index(['Large', 'Medium', 'Small'], dtype='object', name='size_type')"
      ]
     },
     "execution_count": 25,
     "metadata": {},
     "output_type": "execute_result"
    }
   ],
   "source": [
    "list_ETFS[4]"
   ]
  },
  {
   "cell_type": "code",
   "execution_count": null,
   "id": "85197579",
   "metadata": {},
   "outputs": [],
   "source": []
  }
 ],
 "metadata": {
  "kernelspec": {
   "display_name": "Python 3 (ipykernel)",
   "language": "python",
   "name": "python3"
  },
  "language_info": {
   "codemirror_mode": {
    "name": "ipython",
    "version": 3
   },
   "file_extension": ".py",
   "mimetype": "text/x-python",
   "name": "python",
   "nbconvert_exporter": "python",
   "pygments_lexer": "ipython3",
   "version": "3.11.5"
  }
 },
 "nbformat": 4,
 "nbformat_minor": 5
}
